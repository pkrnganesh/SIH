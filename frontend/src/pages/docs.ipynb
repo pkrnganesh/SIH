{
 "cells": [
  {
   "cell_type": "code",
   "execution_count": 4,
   "metadata": {},
   "outputs": [
    {
     "data": {
      "text/plain": [
       "'./SmartIndiaHackathon_Nomination.docx'"
      ]
     },
     "execution_count": 4,
     "metadata": {},
     "output_type": "execute_result"
    }
   ],
   "source": [
    "from docx import Document\n",
    "from docx.oxml import OxmlElement\n",
    "from docx.oxml.ns import qn\n",
    "\n",
    "# Function to set table borders\n",
    "def set_table_border(table):\n",
    "    tbl = table._element\n",
    "    tblPr = tbl.tblPr if tbl.tblPr is not None else OxmlElement('w:tblPr')\n",
    "    tblBorders = OxmlElement('w:tblBorders')\n",
    "    \n",
    "    for border_name in ['top', 'left', 'bottom', 'right', 'insideH', 'insideV']:\n",
    "        border = OxmlElement(f'w:{border_name}')\n",
    "        border.set(qn('w:val'), 'single')\n",
    "        border.set(qn('w:sz'), '4')  # Border width\n",
    "        border.set(qn('w:space'), '0')\n",
    "        border.set(qn('w:color'), 'auto')  # Default black color\n",
    "        tblBorders.append(border)\n",
    "    \n",
    "    tblPr.append(tblBorders)\n",
    "    tbl.append(tblPr)\n",
    "\n",
    "# Create a new Document\n",
    "doc = Document()\n",
    "\n",
    "# Add a heading\n",
    "doc.add_heading('Team Information', level=1)\n",
    "\n",
    "# Add the date and subject\n",
    "doc.add_paragraph(\"Date: 18/Sep/2024\")\n",
    "doc.add_paragraph(\"Sub: SmartIndia Hackathon 2024 – Nomination\")\n",
    "doc.add_paragraph(\"I am pleased to nominate the below team from our college to participate in SmartIndia Hackathon 2024. \"\n",
    "                  \"AICTE Application No for our college is 1-43655977681\")\n",
    "\n",
    "# Create a table with 7 columns\n",
    "table = doc.add_table(rows=1, cols=6)\n",
    "\n",
    "# Apply borders to the table\n",
    "set_table_border(table)\n",
    "\n",
    "# Define the header row\n",
    "hdr_cells = table.rows[0].cells\n",
    "hdr_cells[0].text = 'Role'\n",
    "hdr_cells[1].text = 'Name'\n",
    "hdr_cells[2].text = 'Gender'\n",
    "hdr_cells[3].text = 'Email'\n",
    "hdr_cells[4].text = 'Mobile No.'\n",
    "hdr_cells[5].text = 'Stream and Academic Year'\n",
    "\n",
    "# Team data\n",
    "team_data = [\n",
    "    ['Team Leader', 'Ram Pothamsetti', 'M', 'pothamsettikodanda@gmail.com', '9392842898', 'CSD, 3rd Year'],\n",
    "    ['Team Member', 'Swapanth Vakapalli', 'M', 'swapanthvakapalli@gmail.com', '7794022444', 'CSD, 3rd Year'],\n",
    "    ['Team Member', 'Bala Veerraju', 'M', 'balumatta7471@gmail.com', '7569090694', 'CSD, 3rd Year'],\n",
    "    ['Team Member', 'Rishitha Varma Kanumuri', 'F', 'rishikanumuri@gmail.com', '7386763677', 'CSD, 3rd Year'],\n",
    "    ['Team Member', 'Manoj Varma', 'M', 'manojvarma_csd@srkrec.edu.in', '6302788897', 'CSD, 3rd Year'],\n",
    "    ['Team Member', 'Vishnu Teja', 'M', 'vishnutej2004@gmail.com', '9989948717', 'CSD, 3rd Year']\n",
    "]\n",
    "\n",
    "# Populate the table with the data\n",
    "for role, name, gender, email, mobile, stream_year in team_data:\n",
    "    row_cells = table.add_row().cells\n",
    "    row_cells[0].text = role\n",
    "    row_cells[1].text = name\n",
    "    row_cells[2].text = gender\n",
    "    row_cells[3].text = email\n",
    "    row_cells[4].text = mobile\n",
    "    row_cells[5].text = stream_year\n",
    "\n",
    "# Add closing note\n",
    "doc.add_paragraph()\n",
    "doc.add_paragraph(\"(Dr. K V Murali Krishnam Raju)\")\n",
    "doc.add_paragraph(\"Sincerely,\")\n",
    "\n",
    "# Save the document\n",
    "file_path = \"./SmartIndiaHackathon_Nomination.docx\"\n",
    "doc.save(file_path)\n",
    "\n",
    "file_path\n"
   ]
  }
 ],
 "metadata": {
  "kernelspec": {
   "display_name": "env",
   "language": "python",
   "name": "python3"
  },
  "language_info": {
   "codemirror_mode": {
    "name": "ipython",
    "version": 3
   },
   "file_extension": ".py",
   "mimetype": "text/x-python",
   "name": "python",
   "nbconvert_exporter": "python",
   "pygments_lexer": "ipython3",
   "version": "3.11.5"
  }
 },
 "nbformat": 4,
 "nbformat_minor": 2
}
